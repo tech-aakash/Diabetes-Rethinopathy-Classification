{
 "cells": [
  {
   "cell_type": "markdown",
   "metadata": {},
   "source": [
    "divide all images in chunck of 5000 images zip  "
   ]
  },
  {
   "cell_type": "code",
   "execution_count": 1,
   "metadata": {},
   "outputs": [
    {
     "name": "stdout",
     "output_type": "stream",
     "text": [
      "Created: final_zip_files/images_chunk_1.zip\n",
      "Created: final_zip_files/images_chunk_2.zip\n",
      "Created: final_zip_files/images_chunk_3.zip\n",
      "Created: final_zip_files/images_chunk_4.zip\n",
      "Created: final_zip_files/images_chunk_5.zip\n",
      "Created: final_zip_files/images_chunk_6.zip\n",
      "Created: final_zip_files/images_chunk_7.zip\n",
      "Created: final_zip_files/images_chunk_8.zip\n"
     ]
    }
   ],
   "source": [
    "import os\n",
    "import zipfile\n",
    "\n",
    "def chunk_list(lst, chunk_size):\n",
    "    \"\"\"Yield successive chunk_size chunks from lst.\"\"\"\n",
    "    for i in range(0, len(lst), chunk_size):\n",
    "        yield lst[i:i + chunk_size]\n",
    "\n",
    "def zip_images_in_chunks(folder_path, output_folder, chunk_size=5000):\n",
    "    \"\"\"Zips images in chunks of specified size.\"\"\"\n",
    "    \n",
    "    # Ensure the output folder exists\n",
    "    os.makedirs(output_folder, exist_ok=True)\n",
    "    \n",
    "    # Get all image files\n",
    "    image_files = [f for f in os.listdir(folder_path) if f.lower().endswith(('.png', '.jpg', '.jpeg', '.gif', '.bmp', '.tiff'))]\n",
    "    \n",
    "    # Sort files to maintain order\n",
    "    image_files.sort()\n",
    "\n",
    "    # Divide into chunks\n",
    "    for idx, chunk in enumerate(chunk_list(image_files, chunk_size)):\n",
    "        zip_filename = os.path.join(output_folder, f'images_chunk_{idx + 1}.zip')\n",
    "        with zipfile.ZipFile(zip_filename, 'w', zipfile.ZIP_DEFLATED) as zipf:\n",
    "            for file in chunk:\n",
    "                file_path = os.path.join(folder_path, file)\n",
    "                zipf.write(file_path, arcname=file)  # Store file in ZIP with relative name\n",
    "        \n",
    "        print(f\"Created: {zip_filename}\")\n",
    "\n",
    "# Example usage\n",
    "folder_path = \"resized_train_cropped/resized_train_cropped\"  # Change this to your folder path\n",
    "output_folder = \"final_zip_files\"    # Change this to your output folder\n",
    "\n",
    "zip_images_in_chunks(folder_path, output_folder)"
   ]
  },
  {
   "cell_type": "markdown",
   "metadata": {},
   "source": [
    "Data augmentation"
   ]
  },
  {
   "cell_type": "code",
   "execution_count": null,
   "metadata": {},
   "outputs": [],
   "source": []
  }
 ],
 "metadata": {
  "kernelspec": {
   "display_name": "diabetes-retinopathy",
   "language": "python",
   "name": "python3"
  },
  "language_info": {
   "codemirror_mode": {
    "name": "ipython",
    "version": 3
   },
   "file_extension": ".py",
   "mimetype": "text/x-python",
   "name": "python",
   "nbconvert_exporter": "python",
   "pygments_lexer": "ipython3",
   "version": "3.9.21"
  }
 },
 "nbformat": 4,
 "nbformat_minor": 2
}
